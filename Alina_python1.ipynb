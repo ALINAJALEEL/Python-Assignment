{
  "nbformat": 4,
  "nbformat_minor": 0,
  "metadata": {
    "colab": {
      "provenance": []
    },
    "kernelspec": {
      "name": "python3",
      "display_name": "Python 3"
    },
    "language_info": {
      "name": "python"
    }
  },
  "cells": [
    {
      "cell_type": "code",
      "execution_count": null,
      "metadata": {
        "colab": {
          "base_uri": "https://localhost:8080/"
        },
        "id": "EabStPkvnw6r",
        "outputId": "55eeec22-46e7-4413-a88b-99d3c0304373"
      },
      "outputs": [
        {
          "output_type": "stream",
          "name": "stdout",
          "text": [
            "Area of circle:  78.5\n"
          ]
        }
      ],
      "source": [
        "#1stQ to find the area of circle\n",
        "r = 5\n",
        "pi = 3.14\n",
        "print('Area of circle: ',pi*r**2)"
      ]
    },
    {
      "cell_type": "code",
      "source": [
        "#2ndQ to convert celcious to farenheit\n",
        "a = int(input('enter the celsious: '))\n",
        "F = (a*9/5)+32\n",
        "print ('Celsious to Farenheit: ',(F))"
      ],
      "metadata": {
        "colab": {
          "base_uri": "https://localhost:8080/"
        },
        "id": "47BBTGxpo47f",
        "outputId": "68dd376d-4b49-4cb7-f551-6e97cd2199b3"
      },
      "execution_count": null,
      "outputs": [
        {
          "output_type": "stream",
          "name": "stdout",
          "text": [
            "enter the celsious: 32\n",
            "Celsious to Farenheit:  89.6\n"
          ]
        }
      ]
    },
    {
      "cell_type": "code",
      "source": [
        "#3rdQ to find quotient and reminderusing division operator and modulus\n",
        "divident = 10\n",
        "divisor = 3\n",
        "quotient = divident/divisor\n",
        "remainder = divident%divisor\n",
        "remainder = divident % divisor\n",
        "print(\"the quotient is\",quotient)\n",
        "print(\"the remainder is\",remainder)\n"
      ],
      "metadata": {
        "id": "RRkRvNplrQtu",
        "colab": {
          "base_uri": "https://localhost:8080/"
        },
        "outputId": "90f0d313-5115-4b75-bda8-9ceca5d1d303"
      },
      "execution_count": null,
      "outputs": [
        {
          "output_type": "stream",
          "name": "stdout",
          "text": [
            "the quotient is 3.3333333333333335\n",
            "the remainder is 1\n"
          ]
        }
      ]
    },
    {
      "cell_type": "code",
      "source": [
        "#4thQ to check weather a given number is odd using modulus operation\n",
        "number = 10\n",
        "if number % 2 == 0:\n",
        " print(\"the number is even.\")\n",
        "else:\n",
        " print(\"the number is odd.\")\n"
      ],
      "metadata": {
        "colab": {
          "base_uri": "https://localhost:8080/"
        },
        "id": "2QGkmdi5cIh4",
        "outputId": "0363281a-6d2c-47a7-b446-ed3ea288631f"
      },
      "execution_count": null,
      "outputs": [
        {
          "output_type": "stream",
          "name": "stdout",
          "text": [
            "the number is even.\n"
          ]
        }
      ]
    },
    {
      "cell_type": "code",
      "source": [
        "#5thQ to calculate the average of three numbers entered by the user\n",
        "num1 = 10\n",
        "num2 = 20\n",
        "num3 = 30\n",
        "average = (num1 + num2 + num3)/3\n",
        "print(\"the average of the three numbers is\",average)"
      ],
      "metadata": {
        "colab": {
          "base_uri": "https://localhost:8080/"
        },
        "id": "UmDM_HUqdD73",
        "outputId": "d9c09903-9f72-4b8c-cfb4-817a833ba020"
      },
      "execution_count": null,
      "outputs": [
        {
          "output_type": "stream",
          "name": "stdout",
          "text": [
            "the average of the three numbers is 20.0\n"
          ]
        }
      ]
    },
    {
      "cell_type": "code",
      "source": [
        "#6thQ to swap two variables without using a temporary variable\n",
        "x = 10\n",
        "y = 20\n",
        "x = x^y\n",
        "y = x^y\n",
        "x = x^y\n",
        "print(\"the value of x is\",x)\n",
        "print(\"the value of y is\")\n"
      ],
      "metadata": {
        "colab": {
          "base_uri": "https://localhost:8080/"
        },
        "id": "H3pJ6_dweJfA",
        "outputId": "26c6b439-13c9-4d7f-9b92-9411535fe538"
      },
      "execution_count": null,
      "outputs": [
        {
          "output_type": "stream",
          "name": "stdout",
          "text": [
            "the value of x is 20\n",
            "the value of y is\n"
          ]
        }
      ]
    },
    {
      "cell_type": "code",
      "source": [
        "#7thQ to calculate the area of rectangle with given breadth and length\n",
        "length = 10\n",
        "breadth = 5\n",
        "area = length*breadth\n",
        "print(\"the area of rectangle is\",area)"
      ],
      "metadata": {
        "colab": {
          "base_uri": "https://localhost:8080/"
        },
        "id": "HVQJ0CC_e2wQ",
        "outputId": "001b5914-d603-4f90-aea1-1e27c44b3b4e"
      },
      "execution_count": null,
      "outputs": [
        {
          "output_type": "stream",
          "name": "stdout",
          "text": [
            "the area of rectangle is 50\n"
          ]
        }
      ]
    },
    {
      "cell_type": "code",
      "source": [
        "#8thQ to calculate the sum of digits of a 3 digit number\n",
        "number = 123\n",
        "sum_of_digits = number//100+(number % 100)// 10 + number % 10\n",
        "print(\"the sum of the digits of the number is\", sum_of_digits)"
      ],
      "metadata": {
        "colab": {
          "base_uri": "https://localhost:8080/"
        },
        "id": "W-ZmsBxBfTW4",
        "outputId": "8f994ee0-41e9-4c2a-83a0-2b05f70a96dd"
      },
      "execution_count": null,
      "outputs": [
        {
          "output_type": "stream",
          "name": "stdout",
          "text": [
            "the sum of the digits of the number is 6\n"
          ]
        }
      ]
    },
    {
      "cell_type": "code",
      "source": [
        "#9thQ to check weather a given year is a leap year or not\n",
        "year = 2020\n",
        "if year % 4 == 0:\n",
        " if year % 100 == 0:\n",
        "  if year % 400 == 0:\n",
        "   print(\"the year is a leap year.\")\n",
        "  else:\n",
        "   print(\"the year is not aleap year.\")\n",
        " else:\n",
        "  print(\"the year is a leap year.\")\n",
        "else:\n",
        " print(\"the year is not aleap year\")"
      ],
      "metadata": {
        "colab": {
          "base_uri": "https://localhost:8080/"
        },
        "id": "BV-8ZSEuf44o",
        "outputId": "99641bc4-2aa9-4340-b997-e64dc56ca463"
      },
      "execution_count": null,
      "outputs": [
        {
          "output_type": "stream",
          "name": "stdout",
          "text": [
            "the year is a leap year.\n"
          ]
        }
      ]
    },
    {
      "cell_type": "code",
      "source": [
        "#10th to find the maximum and minimum of two numbers entered by the user\n",
        "num1 = float(input(\"enter the first number:\"))\n",
        "num2 = float(input(\"enter the second number:\"))\n",
        "if num1>num2:\n",
        "  max_num = num1\n",
        "else:\n",
        " max_num = num2\n",
        "if num1 <num2:\n",
        " min_num = num2\n",
        "else:\n",
        " min_num = num2\n",
        "print(\"the maximum of the two number is\",max_num)\n",
        "print(\"the minimum number of two number is\",min_num)"
      ],
      "metadata": {
        "colab": {
          "base_uri": "https://localhost:8080/"
        },
        "id": "nd1x5OcWiMn2",
        "outputId": "2ad29cbc-6ba7-449b-a481-06cdb53c9dbc"
      },
      "execution_count": null,
      "outputs": [
        {
          "output_type": "stream",
          "name": "stdout",
          "text": [
            "enter the first number:12\n",
            "enter the second number:2\n",
            "the maximum of the two number is 12.0\n",
            "the minimum number of two number is 2.0\n"
          ]
        }
      ]
    },
    {
      "cell_type": "code",
      "source": [],
      "metadata": {
        "id": "JKoq8yWlk65F"
      },
      "execution_count": null,
      "outputs": []
    }
  ]
}